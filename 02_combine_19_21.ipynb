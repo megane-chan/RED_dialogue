{
 "cells": [
  {
   "cell_type": "code",
   "execution_count": 2,
   "metadata": {},
   "outputs": [],
   "source": [
    "import pandas as pd\n"
   ]
  },
  {
   "cell_type": "code",
   "execution_count": 3,
   "metadata": {},
   "outputs": [],
   "source": [
    "df21 = pd.read_csv('results/nek21_trans_df.csv', index_col='Unnamed: 0')\n",
    "df19 = pd.read_csv('results/nek19_trans_df.csv', index_col='Unnamed: 0')"
   ]
  },
  {
   "cell_type": "code",
   "execution_count": 8,
   "metadata": {},
   "outputs": [
    {
     "data": {
      "text/plain": [
       "array([-3, -2, -4, -1,  3, 18, 10,  4, 16,  8, 14, 15,  7, 17,  6, 12,  9,\n",
       "       13,  1, 19,  5, 11,  2])"
      ]
     },
     "execution_count": 8,
     "metadata": {},
     "output_type": "execute_result"
    }
   ],
   "source": [
    "df19['session'] = -df19['session']\n",
    "all_df = pd.concat([ df19, df21])\n",
    "z = (all_df.session.unique())\n",
    "all_df.to_csv('results/trans_results.csv')"
   ]
  },
  {
   "cell_type": "code",
   "execution_count": 45,
   "metadata": {},
   "outputs": [],
   "source": [
    "perf19_df = pd.read_csv('data/Project_RED/calculated performance data/NEKMTSCalcs.csv')\n",
    "perf21_df = pd.read_csv('results/perf21.csv')\n",
    "perf19_df['mission'] = -perf19_df.index-1\n",
    "perfdf19_trim = perf19_df[['mission', 'MTSPerf']]\n",
    "perfdf19_trim.columns = ['mission', 'perf']\n",
    "perfdf19_trim\n",
    "\n",
    "perfs = (perf21_df['perf']-perf21_df['perf'].min())/perf21_df['perf'].max()\n",
    "perf21_df['perf'] = perfs\n",
    "all_perfs = pd.concat([perfdf19_trim, perf21_df]).reset_index(drop=True)\n",
    "all_perfs.to_csv('results/perfs.csv')"
   ]
  }
 ],
 "metadata": {
  "kernelspec": {
   "display_name": "venv",
   "language": "python",
   "name": "python3"
  },
  "language_info": {
   "codemirror_mode": {
    "name": "ipython",
    "version": 3
   },
   "file_extension": ".py",
   "mimetype": "text/x-python",
   "name": "python",
   "nbconvert_exporter": "python",
   "pygments_lexer": "ipython3",
   "version": "3.8.16"
  },
  "orig_nbformat": 4
 },
 "nbformat": 4,
 "nbformat_minor": 2
}
