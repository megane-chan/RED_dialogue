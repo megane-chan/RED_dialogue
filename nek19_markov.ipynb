{
 "cells": [
  {
   "cell_type": "code",
   "execution_count": 1,
   "id": "165f1e21",
   "metadata": {},
   "outputs": [],
   "source": [
    "import pandas as pd\n",
    "import numpy as np\n",
    "import seaborn as sns\n",
    "import matplotlib.pyplot as plt"
   ]
  },
  {
   "cell_type": "code",
   "execution_count": 2,
   "id": "aab9318c",
   "metadata": {},
   "outputs": [],
   "source": [
    "nek19_trans_df = pd.read_csv('results/nek19_trans_df.csv')\n",
    "# nek19_chat_df = pd.read_csv('results/nek19_chat_df.csv')\n",
    "df19 = nek19_trans_df\n",
    "perf_df = pd.read_csv('data/Project_RED/calculated performance data/NEKMTSCalcs.csv')"
   ]
  },
  {
   "cell_type": "code",
   "execution_count": 3,
   "id": "9ee833e6",
   "metadata": {},
   "outputs": [],
   "source": [
    "def transition_matrix(transitions):\n",
    "    print(transitions)\n",
    "    n = 1+ max(transitions) #number of states\n",
    "\n",
    "    M = [[0]*n for _ in range(n)]\n",
    "\n",
    "    for (i,j) in zip(transitions,transitions[1:]):\n",
    "        M[i][j] += 1\n",
    "\n",
    "    #now convert to probabilities:\n",
    "    for row in M:\n",
    "        s = sum(row)\n",
    "        if s > 0:\n",
    "            row[:] = [f/s for f in row]\n",
    "    return M"
   ]
  },
  {
   "cell_type": "code",
   "execution_count": 4,
   "id": "d20cc3b1",
   "metadata": {},
   "outputs": [],
   "source": [
    "def trans_wrapper(df, normalized=True):\n",
    "    transitions = df['labels_h'].copy()\n",
    "\n",
    "    states = sorted(set(transitions))\n",
    "    print(states)\n",
    "\n",
    "    ids = {k: 0 + i for i, k in enumerate(states)}\n",
    "    transitions = transitions.map(ids)\n",
    "\n",
    "    counts = transitions.value_counts().sort_index()\n",
    "    frequencies = counts/counts.sum()\n",
    "\n",
    "    transition = np.array(transition_matrix(transitions))\n",
    "    if(normalized):\n",
    "        transition = transition/np.array(frequencies)[None,:]\n",
    "    return transition"
   ]
  },
  {
   "cell_type": "code",
   "execution_count": 8,
   "id": "b4f6e9e9",
   "metadata": {},
   "outputs": [
    {
     "name": "stdout",
     "output_type": "stream",
     "text": [
      "['disruption', 'follow-me', 'question', 'statement']\n",
      "4081    2\n",
      "4082    2\n",
      "4083    2\n",
      "4084    2\n",
      "4085    2\n",
      "       ..\n",
      "6260    1\n",
      "6261    2\n",
      "6262    2\n",
      "6263    2\n",
      "6264    1\n",
      "Name: labels_h, Length: 2184, dtype: int64\n",
      "['disruption', 'follow-me', 'question', 'statement']\n",
      "878     3\n",
      "879     2\n",
      "880     2\n",
      "881     1\n",
      "882     2\n",
      "       ..\n",
      "2512    2\n",
      "2513    1\n",
      "2514    2\n",
      "2515    1\n",
      "2516    2\n",
      "Name: labels_h, Length: 1639, dtype: int64\n",
      "['disruption', 'follow-me', 'question', 'statement']\n",
      "0      1\n",
      "1      3\n",
      "2      2\n",
      "3      3\n",
      "4      2\n",
      "      ..\n",
      "873    1\n",
      "874    2\n",
      "875    3\n",
      "876    2\n",
      "877    3\n",
      "Name: labels_h, Length: 878, dtype: int64\n",
      "['disruption', 'follow-me', 'question', 'statement']\n",
      "2517    2\n",
      "2518    0\n",
      "2519    2\n",
      "2520    1\n",
      "2521    2\n",
      "       ..\n",
      "4076    1\n",
      "4077    2\n",
      "4078    2\n",
      "4079    3\n",
      "4080    2\n",
      "Name: labels_h, Length: 1564, dtype: int64\n"
     ]
    }
   ],
   "source": [
    "state = ['disruption', 'follow-me', 'question', 'statement']\n",
    "session_mats = [trans_wrapper(df19[df19['session'] == session]) for session in range(1,5)]"
   ]
  },
  {
   "cell_type": "code",
   "execution_count": null,
   "id": "19103861",
   "metadata": {},
   "outputs": [],
   "source": []
  },
  {
   "cell_type": "code",
   "execution_count": 16,
   "id": "5e9bc21b",
   "metadata": {},
   "outputs": [
    {
     "name": "stdout",
     "output_type": "stream",
     "text": [
      "from: disruption\tto: disruption\tcorr: -0.581948017438173\n",
      "from: disruption\tto: follow-me\tcorr: 0.17832838839891785\n",
      "from: disruption\tto: question\tcorr: 0.7193263591144496\n",
      "from: disruption\tto: statement\tcorr: -0.5369095280392331\n",
      "from: follow-me\tto: disruption\tcorr: 0.3865923311242453\n",
      "from: follow-me\tto: follow-me\tcorr: 0.9102310226568568\n",
      "from: follow-me\tto: question\tcorr: -0.9064214040440033\n",
      "from: follow-me\tto: statement\tcorr: 0.5875791348925888\n",
      "from: question\tto: disruption\tcorr: -0.10472273781718294\n",
      "from: question\tto: follow-me\tcorr: -0.6178003234503924\n",
      "from: question\tto: question\tcorr: 0.9155254499612617\n",
      "from: question\tto: statement\tcorr: -0.03626713520546343\n",
      "from: statement\tto: disruption\tcorr: -0.13875913561754993\n",
      "from: statement\tto: follow-me\tcorr: -0.6878615046573555\n",
      "from: statement\tto: question\tcorr: 0.8064211661961862\n",
      "from: statement\tto: statement\tcorr: -0.43999311603755265\n"
     ]
    },
    {
     "data": {
      "text/plain": [
       "array([[-0.58194802,  0.17832839,  0.71932636, -0.53690953],\n",
       "       [ 0.38659233,  0.91023102, -0.9064214 ,  0.58757913],\n",
       "       [-0.10472274, -0.61780032,  0.91552545, -0.03626714],\n",
       "       [-0.13875914, -0.6878615 ,  0.80642117, -0.43999312]])"
      ]
     },
     "execution_count": 16,
     "metadata": {},
     "output_type": "execute_result"
    }
   ],
   "source": [
    "\n",
    "from scipy.stats import pearsonr\n",
    "\n",
    "perfs = perf_df['MTSPerf'].iloc[0:4]\n",
    "perfs\n",
    "\n",
    "corrs = np.zeros((len(state), len(state)))\n",
    "\n",
    "for i in range(0,4):\n",
    "    for j in range(0,4):\n",
    "        l = []\n",
    "        for m in session_mats:\n",
    "            l = l + [m[i][j]]\n",
    "        corr, pval = pearsonr(l,perfs)\n",
    "        corrs[i][j] = corr\n",
    "        print(\"from: {}\\tto: {}\\tcorr: {}\".format(state[i], state[j], corr))\n",
    "        \n",
    "corrs"
   ]
  },
  {
   "cell_type": "code",
   "execution_count": 7,
   "id": "2091cf0a",
   "metadata": {},
   "outputs": [],
   "source": [
    "def heatmaps(data, title=\"\", verbose=False):\n",
    "    plt.rcParams[\"figure.figsize\"] = [7.00, 3.50]\n",
    "    plt.rcParams[\"figure.autolayout\"] = True\n",
    "    f, axes = plt.subplots(1, 2)\n",
    "    transitions = data.copy()\n",
    "\n",
    "    # print(transitions[0:10])\n",
    "    states = set(transitions)\n",
    "    state_names = [s[0].upper() for s in states]\n",
    "\n",
    "    ids = {k: 0 + i for i, k in enumerate(states)}\n",
    "    transitions = transitions.map(ids)\n",
    "    # print(transitions[0:10])\n",
    "\n",
    "    counts = transitions.value_counts().sort_index()\n",
    "    frequencies = counts/counts.sum()\n",
    "    # print(counts)\n",
    "    # print(frequencies)\n",
    "\n",
    "    transition = np.array(transition_matrix(transitions))\n",
    "\n",
    "    ax1 = sns.heatmap(transition, square=True, annot=True,fmt=\".2f\",linewidth=.5,cmap=\"mako_r\",ax=axes[0])\n",
    "    ax1.set_xticklabels(state_names)\n",
    "    ax1.set_yticklabels(state_names)\n",
    "    ax1.set_title(title + \" transition\")\n",
    "\n",
    "    normalized = transition/np.array(frequencies)[None,:]\n",
    "\n",
    "    ax2 = sns.heatmap(normalized, square=True, annot=True,fmt=\".2f\",linewidth=.5,cmap=\"mako_r\",ax=axes[1])\n",
    "    ax2.set_xticklabels(state_names)\n",
    "    ax2.set_yticklabels(state_names)\n",
    "    ax2.set_title(title + \" normalized\")\n",
    "    plt.show()\n",
    "    if(verbose):\n",
    "        print(ids)\n",
    "        print(normalized)\n",
    "        print(transition)"
   ]
  },
  {
   "attachments": {},
   "cell_type": "markdown",
   "id": "32ae50d7",
   "metadata": {},
   "source": [
    "heatmaps(nek21_trans_df['labels_h'].copy(), title=\"trans\")"
   ]
  }
 ],
 "metadata": {
  "kernelspec": {
   "display_name": "Python 3 (ipykernel)",
   "language": "python",
   "name": "python3"
  },
  "language_info": {
   "codemirror_mode": {
    "name": "ipython",
    "version": 3
   },
   "file_extension": ".py",
   "mimetype": "text/x-python",
   "name": "python",
   "nbconvert_exporter": "python",
   "pygments_lexer": "ipython3",
   "version": "3.8.16"
  },
  "varInspector": {
   "cols": {
    "lenName": 16,
    "lenType": 16,
    "lenVar": 40
   },
   "kernels_config": {
    "python": {
     "delete_cmd_postfix": "",
     "delete_cmd_prefix": "del ",
     "library": "var_list.py",
     "varRefreshCmd": "print(var_dic_list())"
    },
    "r": {
     "delete_cmd_postfix": ") ",
     "delete_cmd_prefix": "rm(",
     "library": "var_list.r",
     "varRefreshCmd": "cat(var_dic_list()) "
    }
   },
   "types_to_exclude": [
    "module",
    "function",
    "builtin_function_or_method",
    "instance",
    "_Feature"
   ],
   "window_display": false
  }
 },
 "nbformat": 4,
 "nbformat_minor": 5
}
