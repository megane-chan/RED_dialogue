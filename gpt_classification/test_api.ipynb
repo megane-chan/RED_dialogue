{
 "cells": [
  {
   "cell_type": "code",
   "execution_count": 9,
   "metadata": {},
   "outputs": [],
   "source": [
    "from openai import OpenAI\n",
    "import pandas as pd\n",
    "\n",
    "client = OpenAI()\n"
   ]
  },
  {
   "cell_type": "code",
   "execution_count": 22,
   "metadata": {},
   "outputs": [],
   "source": [
    "system_message = \"You are a dialogue act classifier that uses its expert knowledge of linguistics and dialogue act theory to predict dialogue act classifications for a sequence of utterances. \\n\\nUtterances may be classified as one of the five following dialogue acts:\\n\\nStatement <s>\\nThe <s> tag is the most widely used. Unless an utterance is\\ncompletely indecipherable or else can be further described by a general tag as being a\\ntype of question, backchannel, follow-me, or disruption, then its default status\\nas a statement remains. \\n\\n\\\"Follow Me\\\" <f>\\nThe <f> tag marks utterances made by a speaker who wants to verify that what he is\\nsaying is being understood. Utterances marked with the <f> tag explicitly communicate\\nor else implicitly communicate the questions \\\"do you follow me?\\\" or \\\"do you\\nunderstand?\\\" In implicitly communicating those questions, a speaker's utterance may\\nbe a question, such as \\\"right?\\\" or \\\"okay?\\\", where a sense of \\\"do you understand?\\\" is being conveyed.\\nQuestions marked with the \\\"follow me\\\" <f> tag often occur in instances in which a speaker is attempting to be instructional or else is offering an explanation. After an instruction or explanation, a speaker may utter a question that is also a \\\"follow me\\\" in order to gauge whether what he is saying is understood.\\n\\nQuestions <q>\\nThis tag is used to denote any form of question that is not a \\\"follow-me\\\" <f>.\\n\\nDisruption <d>\\nDisruptions are used to mark utterances that are indecipherable, abandoned, or\\ninterrupted, or incomplete.\\n\\nBackchannel <b>\\nUtterances which function as backchannels are not made by the speaker who has the\\nfloor. Instead, backchannels are utterances made in the background that simply\\nindicate that a listener is following along or at least is yielding the illusion that he is\\npaying attention. When uttering backchannels, a speaker is not speaking directly to\\nanyone in particular or even to anyone at all.\\nCommon backchannels include the following: \\\"uhhuh,\\\" \\\"okay,\\\" \\\"right,\\\" \\\"oh,\\\" \\\"yes,\\\"\\n\\\"yeah,\\\" \\\"oh yeah,\\\" \\\"uh yeah,\\\" \\\"huh,\\\" \\\"sure,\\\" and \\\"hm.\\\"\\nThe nature of backchannels does not usually permit utterances such as \\\"uh,\\\" \\\"um,\\\" and\\n\\\"well\\\" as being perceived as backchannels, since these utterances do not indicate that a\\nspeaker is following along, but rather that a speaker has something to say or else is\\nattempting to say something.\\n\\nGiven a sequence of utterances in the form:\\n\\n1. \\\" first utterance\\\"\\n2. \\\"second utterance\\\"\\n3. \\\"third utterance\\\"\\nn. \\\"nth utterance\\\"\\n\\nReturn a classification for all n utterances in the sequence in the following list format:\\n\\n[<\\\"first classification\\\">, <\\\"second classification\\\">, <\\\"third classification\\\">, <\\\"nth classification\\\">]\\n\\n\\n\"\n",
    "\n",
    "user_message = \"1. Okay. Today is April 5th, 2022. It is mission day 152. The time is 2:30PM. Three, two, one. \\n2. Mark.\\n3. Let’s get down to business.\\n4. Got it?\\n5. Darn!\\n6. It’s not working for me again. Is it working for everyone?\\n7. Mhm.\\n8. What is it, is there a problem?\""
   ]
  },
  {
   "cell_type": "markdown",
   "metadata": {},
   "source": [
    "System context:\n",
    "\n",
    "You are a dialogue act classifier that uses its expert knowledge of linguistics and dialogue act theory to predict dialogue act classifications for a sequence of utterances. \n",
    "\n",
    "Utterances may be classified as one of the five following dialogue acts:\n",
    "\n",
    "Statement <s>\n",
    "The <s> tag is the most widely used. Unless an utterance is\n",
    "completely indecipherable or else can be further described by a general tag as being a\n",
    "type of question, backchannel, follow-me, or disruption, then its default status\n",
    "as a statement remains. \n",
    "\n",
    "\"Follow Me\" <f>\n",
    "The <f> tag marks utterances made by a speaker who wants to verify that what he is\n",
    "saying is being understood. Utterances marked with the <f> tag explicitly communicate\n",
    "or else implicitly communicate the questions \"do you follow me?\" or \"do you\n",
    "understand?\" In implicitly communicating those questions, a speaker's utterance may\n",
    "be a question, such as \"right?\" or \"okay?\", where a sense of \"do you understand?\" is being conveyed.\n",
    "Questions marked with the \"follow me\" <f> tag often occur in instances in which a speaker is attempting to be instructional or else is offering an explanation. After an instruction or explanation, a speaker may utter a question that is also a \"follow me\" in order to gauge whether what he is saying is understood.\n",
    "\n",
    "Questions <q>\n",
    "This tag is used to denote any form of question that is not a \"follow-me\" <f>.\n",
    "\n",
    "Disruption <d>\n",
    "Disruptions are used to mark utterances that are indecipherable, abandoned, or\n",
    "interrupted, or incomplete.\n",
    "\n",
    "Backchannel <b>\n",
    "Utterances which function as backchannels are not made by the speaker who has the\n",
    "floor. Instead, backchannels are utterances made in the background that simply\n",
    "indicate that a listener is following along or at least is yielding the illusion that he is\n",
    "paying attention. When uttering backchannels, a speaker is not speaking directly to\n",
    "anyone in particular or even to anyone at all.\n",
    "Common backchannels include the following: \"uhhuh,\" \"okay,\" \"right,\" \"oh,\" \"yes,\"\n",
    "\"yeah,\" \"oh yeah,\" \"uh yeah,\" \"huh,\" \"sure,\" and \"hm.\"\n",
    "The nature of backchannels does not usually permit utterances such as \"uh,\" \"um,\" and\n",
    "\"well\" as being perceived as backchannels, since these utterances do not indicate that a\n",
    "speaker is following along, but rather that a speaker has something to say or else is\n",
    "attempting to say something.\n",
    "\n",
    "Given a sequence of utterances in the form:\n",
    "\n",
    "1. \" first utterance\"\n",
    "2. \"second utterance\"\n",
    "3. \"third utterance\"\n",
    "n. \"nth utterance\"\n",
    "\n",
    "Return a classification for all n utterances in the sequence in the following list format:\n",
    "\n",
    "[<\"first classification\">, <\"second classification\">, <\"third classification\">, <\"nth classification\">]\n",
    "\n",
    "\n",
    "Utterances being classified:\n",
    "\n",
    "1. Okay. Today is April 5th, 2022. It is mission day 152. The time is 2:30PM. Three, two, one. \n",
    "2. Mark.\n",
    "3. Let’s get down to business.\n",
    "4. Got it?\n",
    "5. Darn!\n",
    "6. It’s not working for me again. Is it working for everyone?\n",
    "7. Mhm.\n",
    "8. What is it, is there a problem?"
   ]
  },
  {
   "cell_type": "code",
   "execution_count": 23,
   "metadata": {},
   "outputs": [
    {
     "name": "stdout",
     "output_type": "stream",
     "text": [
      "[<s>, <s>, <s>, <f>, <d>, <q>, <b>, <q>]\n"
     ]
    }
   ],
   "source": [
    "# This code is for v1 of the openai package: pypi.org/project/openai\n",
    "from openai import OpenAI\n",
    "client = OpenAI()\n",
    "\n",
    "response = client.chat.completions.create(\n",
    "  model=\"gpt-3.5-turbo\",\n",
    "  messages=[\n",
    "    {\n",
    "      \"role\": \"system\",\n",
    "      \"content\": system_message\n",
    "    },\n",
    "    {\n",
    "      \"role\": \"user\",\n",
    "      \"content\": user_message\n",
    "    }\n",
    "\n",
    "  ],\n",
    "  temperature=1,\n",
    "  max_tokens=256,\n",
    "  top_p=1,\n",
    "  frequency_penalty=0,\n",
    "  presence_penalty=0\n",
    ")\n",
    "print(response.choices[0].message.content)"
   ]
  }
 ],
 "metadata": {
  "kernelspec": {
   "display_name": "Python 3",
   "language": "python",
   "name": "python3"
  },
  "language_info": {
   "codemirror_mode": {
    "name": "ipython",
    "version": 3
   },
   "file_extension": ".py",
   "mimetype": "text/x-python",
   "name": "python",
   "nbconvert_exporter": "python",
   "pygments_lexer": "ipython3",
   "version": "3.10.12"
  }
 },
 "nbformat": 4,
 "nbformat_minor": 2
}
