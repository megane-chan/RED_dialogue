{
 "cells": [
  {
   "cell_type": "code",
   "execution_count": 1,
   "metadata": {},
   "outputs": [],
   "source": [
    "import pandas as pd\n",
    "import numpy as np"
   ]
  },
  {
   "cell_type": "code",
   "execution_count": 2,
   "metadata": {},
   "outputs": [],
   "source": [
    "labels = [\"s\", \"d\", \"b\", \"f\", \"q\"]\n",
    "label2id = {label:idx for idx, label in enumerate(labels)}"
   ]
  },
  {
   "cell_type": "code",
   "execution_count": 3,
   "metadata": {},
   "outputs": [],
   "source": [
    "# load in session 16 of the BERT classified transcripts dialog\n",
    "trans = pd.read_csv('results/trans_results.csv')\n",
    "s16 = trans[trans['session'] == 2116]"
   ]
  },
  {
   "cell_type": "code",
   "execution_count": 5,
   "metadata": {},
   "outputs": [
    {
     "name": "stderr",
     "output_type": "stream",
     "text": [
      "/home/dck5549/.local/lib/python3.10/site-packages/sklearn/preprocessing/_encoders.py:868: FutureWarning: `sparse` was renamed to `sparse_output` in version 1.2 and will be removed in 1.4. `sparse_output` is ignored unless you leave `sparse` to its default value.\n",
      "  warnings.warn(\n"
     ]
    },
    {
     "data": {
      "text/plain": [
       "array([[1., 0., 0., 0.],\n",
       "       [0., 1., 0., 0.],\n",
       "       [1., 0., 0., 0.],\n",
       "       ...,\n",
       "       [0., 0., 0., 1.],\n",
       "       [1., 0., 0., 0.],\n",
       "       [1., 0., 0., 0.]])"
      ]
     },
     "execution_count": 5,
     "metadata": {},
     "output_type": "execute_result"
    }
   ],
   "source": [
    "from sklearn.preprocessing import OneHotEncoder\n",
    "\n",
    "# preproccess BERT machine labeled labels by putting them into one-hot format\n",
    "onehot_enc = OneHotEncoder(sparse=False)\n",
    "bert_labels_raw = s16['labels'][1:].to_numpy().reshape(s16['labels'].size-1,1)\n",
    "bert_labels = onehot_enc.fit_transform(bert_labels_raw)\n",
    "bert_labels"
   ]
  },
  {
   "cell_type": "code",
   "execution_count": 6,
   "metadata": {},
   "outputs": [
    {
     "name": "stderr",
     "output_type": "stream",
     "text": [
      "/home/dck5549/.local/lib/python3.10/site-packages/sklearn/preprocessing/_encoders.py:868: FutureWarning: `sparse` was renamed to `sparse_output` in version 1.2 and will be removed in 1.4. `sparse_output` is ignored unless you leave `sparse` to its default value.\n",
      "  warnings.warn(\n"
     ]
    },
    {
     "data": {
      "text/plain": [
       "array([[1., 0., 0., 0., 0.],\n",
       "       [1., 0., 0., 0., 0.],\n",
       "       [1., 0., 0., 0., 0.],\n",
       "       ...,\n",
       "       [1., 0., 0., 0., 0.],\n",
       "       [0., 0., 1., 0., 0.],\n",
       "       [0., 0., 0., 1., 0.]])"
      ]
     },
     "execution_count": 6,
     "metadata": {},
     "output_type": "execute_result"
    }
   ],
   "source": [
    "# milans labels (human #1)\n",
    "\n",
    "# transform labels to one-hot format\n",
    "h1_df_raw=pd.read_csv('fewshot_labels/trans16_milan.csv')\n",
    "h1_raw = h1_df_raw.replace({'label': label2id}).to_numpy()\n",
    "h1_labels = onehot_enc.fit_transform(h1_raw)\n",
    "h1_labels"
   ]
  },
  {
   "cell_type": "code",
   "execution_count": null,
   "metadata": {},
   "outputs": [],
   "source": [
    "# calculate fleiss's kappa\n",
    "# equation lifted from here: https://en.wikipedia.org/wiki/Fleiss%27_kappa\n",
    "def fleiss_kappa(Z, n):\n",
    "    N = Z.shape[0]\n",
    "\n",
    "    p_j = np.apply_along_axis(np.sum,0, Z)/(n*N)\n",
    "    p_i = 1/(n * (n-1)) * np.sum(np.hstack((np.square(Z), np.full(N,-n).reshape(N,1))),1) \n",
    "\n",
    "    p_bar = 1/N * np.sum(p_i)\n",
    "    p_e = np.sum(np.square(p_j))\n",
    "    kappa = (p_bar - p_e)/(1-p_e)\n",
    "    return kappa"
   ]
  },
  {
   "cell_type": "code",
   "execution_count": null,
   "metadata": {},
   "outputs": [
    {
     "data": {
      "text/plain": [
       "0.4987064511506174"
      ]
     },
     "execution_count": 29,
     "metadata": {},
     "output_type": "execute_result"
    }
   ],
   "source": [
    "# an array of all the raters\n",
    "all_labeled = np.array([h1_labels, bert_labels])\n",
    "\n",
    "# calculate frequency matrix used in one-hot calculation\n",
    "Z = np.sum(all_labeled, 0)\n",
    "n = len(all_labeled)\n",
    "\n",
    "# calculate the kappa value\n",
    "fleiss_kappa(Z,n)"
   ]
  }
 ],
 "metadata": {
  "kernelspec": {
   "display_name": "venv",
   "language": "python",
   "name": "python3"
  },
  "language_info": {
   "codemirror_mode": {
    "name": "ipython",
    "version": 3
   },
   "file_extension": ".py",
   "mimetype": "text/x-python",
   "name": "python",
   "nbconvert_exporter": "python",
   "pygments_lexer": "ipython3",
   "version": "3.10.12"
  },
  "orig_nbformat": 4
 },
 "nbformat": 4,
 "nbformat_minor": 2
}
