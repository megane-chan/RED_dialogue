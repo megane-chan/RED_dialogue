{
 "cells": [
  {
   "cell_type": "code",
   "execution_count": 1,
   "metadata": {},
   "outputs": [
    {
     "name": "stderr",
     "output_type": "stream",
     "text": [
      "/home/dck5549/.local/lib/python3.10/site-packages/tqdm/auto.py:21: TqdmWarning: IProgress not found. Please update jupyter and ipywidgets. See https://ipywidgets.readthedocs.io/en/stable/user_install.html\n",
      "  from .autonotebook import tqdm as notebook_tqdm\n"
     ]
    }
   ],
   "source": [
    "import pandas as pd\n",
    "import numpy as np\n",
    "import transformers\n",
    "from transformers import BertForSequenceClassification\n",
    "import torch\n",
    "import torch.nn as nn\n",
    "from torch.utils.data import Dataset\n",
    "from torch.utils.data import DataLoader\n",
    "import torch.optim as optim\n",
    "import torch.nn.functional as F\n",
    "from tqdm import tqdm\n",
    "import matplotlib.pyplot as plt\n"
   ]
  },
  {
   "cell_type": "code",
   "execution_count": 2,
   "metadata": {},
   "outputs": [],
   "source": [
    "mrda = pd.read_csv(\"mrda/MRDA_data.csv\")\n",
    "\n",
    "\n",
    "#assign values to labels\n",
    "mrda.loc[mrda['Basic'] == 'S', 'Basic'] = 0\n",
    "mrda.loc[mrda['Basic'] == 'F', 'Basic'] = 1\n",
    "mrda.loc[mrda['Basic'] == 'B', 'Basic'] = 2\n",
    "mrda.loc[mrda['Basic'] == 'D', 'Basic'] = 3\n",
    "mrda.loc[mrda['Basic'] == 'Q', 'Basic'] = 4\n",
    "\n",
    "content = mrda['utterance']\n",
    "labels = mrda['Basic']\n"
   ]
  },
  {
   "cell_type": "code",
   "execution_count": 3,
   "metadata": {},
   "outputs": [
    {
     "name": "stdout",
     "output_type": "stream",
     "text": [
      "86561 21641\n",
      "86561 21641\n"
     ]
    }
   ],
   "source": [
    "#split data into train and test\n",
    "\n",
    "split = int(len(content) * 0.8)\n",
    "\n",
    "train_data = content[:split]\n",
    "train_labels = labels[:split]\n",
    "\n",
    "test_data = content[split:]\n",
    "test_labels = labels[split:]\n",
    "\n",
    "print(train_data.size, test_data.size)\n",
    "print(train_labels.size, test_labels.size)\n"
   ]
  },
  {
   "cell_type": "code",
   "execution_count": 4,
   "metadata": {},
   "outputs": [],
   "source": [
    "'''prepare dataset, for making classifications the model will be given the statement before the statement being predicted for additional context. For example, for the following sequence:\n",
    "\n",
    "Everything is ON. I have everything.\n",
    "I have nothing. Wait, just a second. Uno momento por favor.\n",
    "Nothing [UI]\n",
    "\n",
    "To make a prediction for the first statement, the input to the model will be:\n",
    "\n",
    "\"Everything is ON. I have everything.\"\n",
    "\n",
    "For the second:\n",
    "\n",
    "\"Everything is ON. I have everything. I have nothing. Wait, just a second. Uno momento por favor\"\n",
    "\n",
    "And for the third:\n",
    "\n",
    "\"I have nothing. Wait, just a second. Uno momento por favor. Nothing [UI]\"\n",
    "\n",
    "'''\n",
    "class BertDataset(Dataset):\n",
    "    def __init__(self, data, labels, tokenizer, max_length):\n",
    "        super(BertDataset, self).__init__()\n",
    "        self.train_csv=data.to_numpy()\n",
    "        self.tokenizer=tokenizer\n",
    "        self.target=labels.to_numpy()\n",
    "        self.max_length=max_length\n",
    "        \n",
    "    def __len__(self):\n",
    "        return len(self.train_csv)\n",
    "    \n",
    "    def __getitem__(self, index):\n",
    "        \n",
    "        if index > 0:\n",
    "            text1 = self.train_csv[index - 1]\n",
    "            text2 = self.train_csv[index]\n",
    "            inp = \"[CLS] \" + text1 + \"[SEP]\" + text2\n",
    "        else:\n",
    "            text = self.train_csv[index]\n",
    "            inp = \"[CLS] \" + text + \"[SEP]\"\n",
    "\n",
    "        inputs = self.tokenizer.encode_plus(\n",
    "            inp,\n",
    "            add_special_tokens=False,\n",
    "            return_attention_mask=True,\n",
    "            max_length=self.max_length,\n",
    "            truncation=True,\n",
    "            padding=\"max_length\"\n",
    "        )\n",
    "\n",
    "        ids = inputs[\"input_ids\"]\n",
    "        token_type_ids = inputs[\"token_type_ids\"]\n",
    "        mask = inputs[\"attention_mask\"]\n",
    "\n",
    "        label = np.zeros(5)\n",
    "        label[self.target[index]] = 1\n",
    "\n",
    "        return {\n",
    "            'ids': torch.tensor(ids, dtype=torch.long),\n",
    "            'mask': torch.tensor(mask, dtype=torch.long),\n",
    "            'token_type_ids': torch.tensor(token_type_ids, dtype=torch.long),\n",
    "            'target': torch.tensor(label, dtype=torch.long)\n",
    "            }\n",
    "    "
   ]
  },
  {
   "cell_type": "code",
   "execution_count": 5,
   "metadata": {},
   "outputs": [],
   "source": [
    "# Metrics used to train model\n",
    "# Taken from https://towardsdatascience.com/fine-tuning-bert-for-text-classification-54e7df642894\n",
    "def b_tp(preds, labels):\n",
    "  '''Returns True Positives (TP): count of correct predictions of actual class 1'''\n",
    "  return sum([preds == labels and preds == 1 for preds, labels in zip(preds, labels)])\n",
    "\n",
    "def b_fp(preds, labels):\n",
    "  '''Returns False Positives (FP): count of wrong predictions of actual class 1'''\n",
    "  return sum([preds != labels and preds == 1 for preds, labels in zip(preds, labels)])\n",
    "\n",
    "def b_tn(preds, labels):\n",
    "  '''Returns True Negatives (TN): count of correct predictions of actual class 0'''\n",
    "  return sum([preds == labels and preds == 0 for preds, labels in zip(preds, labels)])\n",
    "\n",
    "def b_fn(preds, labels):\n",
    "  '''Returns False Negatives (FN): count of wrong predictions of actual class 0'''\n",
    "  return sum([preds != labels and preds == 0 for preds, labels in zip(preds, labels)])\n",
    "\n",
    "def b_metrics(preds, labels):\n",
    "  '''\n",
    "  Returns the following metrics:\n",
    "    - accuracy    = (TP + TN) / N\n",
    "    - precision   = TP / (TP + FP)\n",
    "    - recall      = TP / (TP + FN)\n",
    "    - specificity = TN / (TN + FP)\n",
    "  '''\n",
    "  preds = np.argmax(preds, axis = 1).flatten()\n",
    "  labels = labels.flatten()\n",
    "  tp = b_tp(preds, labels)\n",
    "  tn = b_tn(preds, labels)\n",
    "  fp = b_fp(preds, labels)\n",
    "  fn = b_fn(preds, labels)\n",
    "  b_accuracy = (tp + tn) / len(labels)\n",
    "  b_precision = tp / (tp + fp) if (tp + fp) > 0 else 'nan'\n",
    "  b_recall = tp / (tp + fn) if (tp + fn) > 0 else 'nan'\n",
    "  b_specificity = tn / (tn + fp) if (tn + fp) > 0 else 'nan'\n",
    "  return b_accuracy, b_precision, b_recall, b_specificity"
   ]
  },
  {
   "cell_type": "code",
   "execution_count": 6,
   "metadata": {},
   "outputs": [],
   "source": [
    "batch_size = 16\n",
    "\n",
    "tokenizer = transformers.BertTokenizer.from_pretrained(\"bert-base-uncased\")\n",
    "\n",
    "train_dataset = BertDataset(train_data, train_labels, tokenizer, max_length=256)\n",
    "train_loader = DataLoader(train_dataset, batch_size=batch_size, shuffle=True)\n",
    "\n",
    "test_dataset = BertDataset(test_data, test_labels, tokenizer, max_length=256)\n",
    "test_loader = DataLoader(test_dataset, batch_size=batch_size, shuffle=True)"
   ]
  },
  {
   "cell_type": "code",
   "execution_count": 26,
   "metadata": {},
   "outputs": [
    {
     "name": "stdout",
     "output_type": "stream",
     "text": [
      "tensor([[1, 0, 0, 0, 0],\n",
      "        [0, 0, 1, 0, 0],\n",
      "        [1, 0, 0, 0, 0],\n",
      "        [0, 0, 0, 0, 1],\n",
      "        [1, 0, 0, 0, 0],\n",
      "        [1, 0, 0, 0, 0],\n",
      "        [0, 0, 1, 0, 0],\n",
      "        [1, 0, 0, 0, 0],\n",
      "        [0, 0, 0, 0, 1],\n",
      "        [1, 0, 0, 0, 0],\n",
      "        [1, 0, 0, 0, 0],\n",
      "        [0, 0, 0, 0, 1],\n",
      "        [0, 0, 0, 1, 0],\n",
      "        [1, 0, 0, 0, 0],\n",
      "        [1, 0, 0, 0, 0],\n",
      "        [1, 0, 0, 0, 0]])\n"
     ]
    }
   ],
   "source": [
    "for i in train_loader:\n",
    "    print(i['target'])\n",
    "    break"
   ]
  },
  {
   "cell_type": "code",
   "execution_count": 27,
   "metadata": {},
   "outputs": [
    {
     "name": "stderr",
     "output_type": "stream",
     "text": [
      "Some weights of the model checkpoint at bert-base-uncased were not used when initializing BertForSequenceClassification: ['cls.predictions.decoder.weight', 'cls.seq_relationship.weight', 'cls.predictions.bias', 'cls.predictions.transform.LayerNorm.bias', 'cls.predictions.transform.dense.bias', 'cls.predictions.transform.dense.weight', 'cls.predictions.transform.LayerNorm.weight', 'cls.seq_relationship.bias']\n",
      "- This IS expected if you are initializing BertForSequenceClassification from the checkpoint of a model trained on another task or with another architecture (e.g. initializing a BertForSequenceClassification model from a BertForPreTraining model).\n",
      "- This IS NOT expected if you are initializing BertForSequenceClassification from the checkpoint of a model that you expect to be exactly identical (initializing a BertForSequenceClassification model from a BertForSequenceClassification model).\n",
      "Some weights of BertForSequenceClassification were not initialized from the model checkpoint at bert-base-uncased and are newly initialized: ['classifier.weight', 'classifier.bias']\n",
      "You should probably TRAIN this model on a down-stream task to be able to use it for predictions and inference.\n"
     ]
    }
   ],
   "source": [
    "# Load the BertForSequenceClassification model, which will train both the embedding space and also the classifier layer on top\n",
    "model = BertForSequenceClassification.from_pretrained(\n",
    "    'bert-base-uncased',\n",
    "    num_labels = 5,\n",
    "    output_attentions = False,\n",
    "    output_hidden_states = False,\n",
    ")\n",
    "\n",
    "# Recommended learning rates (Adam): 5e-5, 3e-5, 2e-5. See: https://arxiv.org/pdf/1810.04805.pdf\n",
    "optimizer = torch.optim.AdamW(model.parameters(), \n",
    "                              lr = 5e-5,\n",
    "                              eps = 1e-08\n",
    "                              )\n",
    "\n",
    "criterion = torch.nn.CrossEntropyLoss()\n",
    "\n",
    "# Train on the gpu if available\n",
    "device = torch.device('cuda' if torch.cuda.is_available() else 'cpu')"
   ]
  },
  {
   "cell_type": "code",
   "execution_count": 28,
   "metadata": {},
   "outputs": [
    {
     "name": "stdout",
     "output_type": "stream",
     "text": [
      "torch.Size([16, 256])\n",
      "torch.Size([16, 256])\n",
      "torch.Size([16, 256])\n",
      "torch.Size([16, 5])\n"
     ]
    },
    {
     "data": {
      "text/plain": [
       "tensor([[0., 0., 0., 1., 0.],\n",
       "        [0., 0., 0., 1., 0.],\n",
       "        [0., 0., 0., 1., 0.],\n",
       "        [0., 0., 0., 1., 0.],\n",
       "        [0., 0., 0., 1., 0.],\n",
       "        [0., 0., 0., 1., 0.],\n",
       "        [0., 0., 0., 1., 0.],\n",
       "        [0., 0., 0., 1., 0.],\n",
       "        [0., 0., 0., 1., 0.],\n",
       "        [0., 0., 0., 1., 0.],\n",
       "        [0., 0., 0., 1., 0.],\n",
       "        [0., 0., 0., 1., 0.],\n",
       "        [0., 0., 0., 1., 0.],\n",
       "        [0., 0., 0., 1., 0.],\n",
       "        [0., 0., 0., 1., 0.],\n",
       "        [0., 0., 0., 1., 0.]])"
      ]
     },
     "execution_count": 28,
     "metadata": {},
     "output_type": "execute_result"
    }
   ],
   "source": [
    "for i in train_loader:\n",
    "    batch = i\n",
    "    break\n",
    "\n",
    "b_input_ids = batch['ids']\n",
    "b_input_mask = batch['mask']\n",
    "b_token_type_ids = batch['token_type_ids']\n",
    "b_labels = batch['target']\n",
    "\n",
    "\n",
    "print(b_input_ids.size())\n",
    "print(b_input_mask.size())\n",
    "print(b_token_type_ids.size())\n",
    "print(b_labels.size())\n",
    "\n",
    "model.eval()\n",
    "with torch.no_grad():\n",
    "\n",
    "    train_output = model(b_input_ids, \n",
    "                        token_type_ids = b_token_type_ids, \n",
    "                        attention_mask = b_input_mask)\n",
    "    \n",
    "logits = train_output.logits\n",
    "\n",
    "max_indices = torch.argmax(logits, dim=1)\n",
    "\n",
    "# Create a one-hot tensor\n",
    "one_hot = torch.zeros(logits.size())\n",
    "one_hot.scatter_(1, max_indices.view(-1, 1), 1)\n",
    "\n"
   ]
  },
  {
   "cell_type": "code",
   "execution_count": 7,
   "metadata": {},
   "outputs": [],
   "source": [
    "def logits_to_preds(logits):\n",
    "    max_indices = torch.argmax(logits, dim=1)\n",
    "\n",
    "    # Create a one-hot tensor\n",
    "    one_hot = torch.zeros(logits.size())\n",
    "    one_hot.scatter_(1, max_indices.view(-1, 1), 1)\n",
    "\n",
    "    return one_hot"
   ]
  },
  {
   "cell_type": "code",
   "execution_count": 30,
   "metadata": {},
   "outputs": [],
   "source": [
    "epochs = 3\n",
    "for _ in range(epochs):\n",
    "    \n",
    "    # ========== Training ==========\n",
    "    \n",
    "    # =============== TRAIN ================\n",
    "    # Set model to training mode\n",
    "    model.train()\n",
    "    \n",
    "    # Tracking variables\n",
    "    tr_loss = 0\n",
    "    nb_tr_examples, nb_tr_steps = 0, 0\n",
    "\n",
    "    for step, batch in enumerate(train_loader):\n",
    "\n",
    "        b_input_ids = batch['ids']\n",
    "        b_input_mask = batch['mask']\n",
    "        b_token_type_ids = batch['token_type_ids']\n",
    "        b_labels = batch['target']\n",
    "\n",
    "        optimizer.zero_grad()\n",
    "\n",
    "        # Forward pass\n",
    "        train_output = model(b_input_ids, \n",
    "                            token_type_ids = b_token_type_ids, \n",
    "                            attention_mask = b_input_mask)\n",
    "\n",
    "        # Backward pass\n",
    "        loss = criterion(train_output.logits.to(torch.float), b_labels.to(torch.float))\n",
    "        loss.backward()\n",
    "        optimizer.step()\n",
    "\n",
    "        # Update tracking variables\n",
    "        tr_loss += loss.item()\n",
    "        nb_tr_examples += b_input_ids.size(0)\n",
    "        nb_tr_steps += 1\n",
    "\n",
    "    \n"
   ]
  },
  {
   "cell_type": "code",
   "execution_count": 8,
   "metadata": {},
   "outputs": [],
   "source": [
    "#This is for evaluation of already trained model, if retraining get rid of this block\n",
    "\n",
    "model = BertForSequenceClassification.from_pretrained(\"../models/mrda_backwards_context.model/\")"
   ]
  },
  {
   "cell_type": "code",
   "execution_count": 9,
   "metadata": {},
   "outputs": [],
   "source": [
    "# ============== VALIDATE =================\n",
    "\n",
    "# Set model to evaluation mode\n",
    "model.eval()\n",
    "\n",
    "preds = []\n",
    "true = []\n",
    "\n",
    "for batch in test_loader:\n",
    "\n",
    "    b_input_ids = batch['ids']\n",
    "    b_input_mask = batch['mask']\n",
    "    b_token_type_ids = batch['token_type_ids']\n",
    "    b_labels = batch['target']\n",
    "\n",
    "    with torch.no_grad():\n",
    "        # Forward pass\n",
    "        eval_output = model(b_input_ids, \n",
    "                            token_type_ids = None,\n",
    "                            attention_mask = b_input_mask)\n",
    "    \n",
    "    logits = logits_to_preds(eval_output.logits.to(torch.float))\n",
    "    logits = logits.detach().cpu().numpy()\n",
    "    label_ids = b_labels.to(torch.float).cpu().numpy()\n",
    "\n",
    "    preds.append(logits)\n",
    "    true.append(label_ids)\n",
    "\n",
    "    "
   ]
  },
  {
   "cell_type": "code",
   "execution_count": 10,
   "metadata": {},
   "outputs": [
    {
     "name": "stdout",
     "output_type": "stream",
     "text": [
      "0.8722332609398826\n"
     ]
    }
   ],
   "source": [
    "total_correct = 0\n",
    "total = 0\n",
    "\n",
    "pred_hist = np.array([0,0,0,0,0])\n",
    "true_hist = np.array([0,0,0,0,0])\n",
    "\n",
    "#keys correspond to utterance types\n",
    "type_counts = {\n",
    "    0 : 0,\n",
    "    1 : 0,\n",
    "    2 : 0,\n",
    "    3 : 0,\n",
    "    4 : 0\n",
    "}\n",
    "\n",
    "for i, pred in enumerate(preds):\n",
    "\n",
    "    #update histograms\n",
    "    pred_hist = pred_hist + np.sum(pred, axis=0)\n",
    "    true_hist = true_hist + np.sum(true[i], axis=0)\n",
    "\n",
    "    #total example count\n",
    "    total += len(pred)\n",
    "\n",
    "    #argmax should be same if prediction is correct\n",
    "    t = np.argmax(true[i], axis=1)\n",
    "    pred = np.argmax(pred, axis=1)\n",
    "\n",
    "    #count number of correct predictions\n",
    "    num_correct = sum(t == pred)\n",
    "    total_correct += num_correct\n",
    "\n",
    "    #this is used to find the accuracy of each type of utterance\n",
    "    #if the model's prediciton is correct, leave the current value, which\n",
    "    #will be the index corresponding to the type of utterance, otherwise make it 9, (9 is trivial)\n",
    "\n",
    "    type_correct = np.where(t == pred, pred, 9)\n",
    "    vals, counts = np.unique(type_correct, return_counts=True)\n",
    "\n",
    "    for i,val in enumerate(vals):\n",
    "        if val in type_counts:\n",
    "            type_counts[val] += counts[i]\n",
    "\n",
    "\n",
    "\n",
    "\n",
    "\n",
    "\n",
    "print(total_correct/total)\n",
    "\n"
   ]
  },
  {
   "cell_type": "code",
   "execution_count": 11,
   "metadata": {},
   "outputs": [
    {
     "data": {
      "text/plain": [
       "array([0.86895082, 0.7819063 , 0.93727382, 0.81309478, 0.99914821])"
      ]
     },
     "execution_count": 11,
     "metadata": {},
     "output_type": "execute_result"
    }
   ],
   "source": [
    "np.array(list(type_counts.values())) / true_hist\n"
   ]
  },
  {
   "cell_type": "code",
   "execution_count": 12,
   "metadata": {},
   "outputs": [
    {
     "data": {
      "image/png": "[encoded data removed]",
      "text/plain": [
       "<Figure size 640x480 with 1 Axes>"
      ]
     },
     "metadata": {},
     "output_type": "display_data"
    }
   ],
   "source": [
    "\n",
    "plot_labels = ['s', 'd', 'b', 'f', 'q']\n",
    "\n",
    "x = np.arange(5)\n",
    "bar_width = 0.35\n",
    "\n",
    "plt.bar(x - bar_width/2, pred_hist, bar_width, label='Prediction Labels', color='blue')\n",
    "\n",
    "# Create the second set of bars next to the first set\n",
    "plt.bar(x + bar_width/2, true_hist, bar_width, label='True Labels', color='orange')\n",
    "\n",
    "plt.xlabel('Value')\n",
    "plt.ylabel('Count')\n",
    "plt.xticks(x, plot_labels)\n",
    "plt.legend()\n",
    "\n",
    "plt.show()"
   ]
  },
  {
   "cell_type": "code",
   "execution_count": 14,
   "metadata": {},
   "outputs": [
    {
     "data": {
      "image/png": "[encoded data removed]",
      "text/plain": [
       "<Figure size 640x480 with 1 Axes>"
      ]
     },
     "metadata": {},
     "output_type": "display_data"
    }
   ],
   "source": [
    "correct = list(type_counts.values())\n",
    "\n",
    "plot_labels = ['s', 'd', 'b', 'f', 'q']\n",
    "\n",
    "x = np.arange(5)\n",
    "bar_width = 0.35\n",
    "\n",
    "plt.bar(x - bar_width/2, pred_hist, bar_width, label='Prediction Labels', color='blue')\n",
    "\n",
    "# Create the second set of bars next to the first set\n",
    "plt.bar(x + bar_width/2, true_hist, bar_width, label='True Labels', color='purple')\n",
    "\n",
    "plt.bar(x - bar_width/2, correct, bar_width, label='Correctly Predicted Labels', color='green', alpha=1)\n",
    "\n",
    "plt.xlabel('Value')\n",
    "plt.ylabel('Count')\n",
    "plt.xticks(x, plot_labels)\n",
    "plt.legend()\n",
    "\n",
    "plt.title('Trained on MRDA + Backwards Context')\n",
    "\n",
    "plt.show()"
   ]
  },
  {
   "cell_type": "code",
   "execution_count": null,
   "metadata": {},
   "outputs": [],
   "source": [
    "model.save_pretrained(\"../models/mrda_backwards_context.model\")"
   ]
  }
 ],
 "metadata": {
  "kernelspec": {
   "display_name": "Python 3",
   "language": "python",
   "name": "python3"
  },
  "language_info": {
   "codemirror_mode": {
    "name": "ipython",
    "version": 3
   },
   "file_extension": ".py",
   "mimetype": "text/x-python",
   "name": "python",
   "nbconvert_exporter": "python",
   "pygments_lexer": "ipython3",
   "version": "3.10.12"
  }
 },
 "nbformat": 4,
 "nbformat_minor": 2
}
