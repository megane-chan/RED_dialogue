{
 "cells": [
  {
   "cell_type": "code",
   "execution_count": 1,
   "metadata": {},
   "outputs": [],
   "source": [
    "import pandas as pd\n",
    "chats_df = pd.read_csv('chat_preds.csv')\n",
    "trans_df = pd.read_csv('trans_preds.csv')"
   ]
  },
  {
   "cell_type": "code",
   "execution_count": 2,
   "metadata": {},
   "outputs": [
    {
     "data": {
      "text/html": [
       "<div>\n",
       "<style scoped>\n",
       "    .dataframe tbody tr th:only-of-type {\n",
       "        vertical-align: middle;\n",
       "    }\n",
       "\n",
       "    .dataframe tbody tr th {\n",
       "        vertical-align: top;\n",
       "    }\n",
       "\n",
       "    .dataframe thead th {\n",
       "        text-align: right;\n",
       "    }\n",
       "</style>\n",
       "<table border=\"1\" class=\"dataframe\">\n",
       "  <thead>\n",
       "    <tr style=\"text-align: right;\">\n",
       "      <th></th>\n",
       "      <th>BC_Trans_Preds</th>\n",
       "    </tr>\n",
       "  </thead>\n",
       "  <tbody>\n",
       "    <tr>\n",
       "      <th>0</th>\n",
       "      <td>disruption</td>\n",
       "    </tr>\n",
       "    <tr>\n",
       "      <th>1</th>\n",
       "      <td>statement</td>\n",
       "    </tr>\n",
       "    <tr>\n",
       "      <th>2</th>\n",
       "      <td>floor-grabber</td>\n",
       "    </tr>\n",
       "    <tr>\n",
       "      <th>3</th>\n",
       "      <td>floor-grabber</td>\n",
       "    </tr>\n",
       "    <tr>\n",
       "      <th>4</th>\n",
       "      <td>statement</td>\n",
       "    </tr>\n",
       "    <tr>\n",
       "      <th>...</th>\n",
       "      <td>...</td>\n",
       "    </tr>\n",
       "    <tr>\n",
       "      <th>36028</th>\n",
       "      <td>statement</td>\n",
       "    </tr>\n",
       "    <tr>\n",
       "      <th>36029</th>\n",
       "      <td>statement</td>\n",
       "    </tr>\n",
       "    <tr>\n",
       "      <th>36030</th>\n",
       "      <td>statement</td>\n",
       "    </tr>\n",
       "    <tr>\n",
       "      <th>36031</th>\n",
       "      <td>statement</td>\n",
       "    </tr>\n",
       "    <tr>\n",
       "      <th>36032</th>\n",
       "      <td>statement</td>\n",
       "    </tr>\n",
       "  </tbody>\n",
       "</table>\n",
       "<p>36033 rows × 1 columns</p>\n",
       "</div>"
      ],
      "text/plain": [
       "      BC_Trans_Preds\n",
       "0         disruption\n",
       "1          statement\n",
       "2      floor-grabber\n",
       "3      floor-grabber\n",
       "4          statement\n",
       "...              ...\n",
       "36028      statement\n",
       "36029      statement\n",
       "36030      statement\n",
       "36031      statement\n",
       "36032      statement\n",
       "\n",
       "[36033 rows x 1 columns]"
      ]
     },
     "execution_count": 2,
     "metadata": {},
     "output_type": "execute_result"
    }
   ],
   "source": [
    "trans_df"
   ]
  },
  {
   "cell_type": "code",
   "execution_count": 3,
   "metadata": {},
   "outputs": [
    {
     "data": {
      "text/plain": [
       "BC_Chat_Preds\n",
       "floor-grabber    1216\n",
       "question          763\n",
       "statement         758\n",
       "disruption        134\n",
       "backchannel         7\n",
       "Name: count, dtype: int64"
      ]
     },
     "execution_count": 3,
     "metadata": {},
     "output_type": "execute_result"
    }
   ],
   "source": [
    "chats_df.value_counts()"
   ]
  },
  {
   "cell_type": "code",
   "execution_count": 4,
   "metadata": {},
   "outputs": [
    {
     "data": {
      "text/plain": [
       "BC_Trans_Preds\n",
       "statement         22366\n",
       "question           8623\n",
       "floor-grabber      3676\n",
       "backchannel        1096\n",
       "disruption          272\n",
       "Name: count, dtype: int64"
      ]
     },
     "execution_count": 4,
     "metadata": {},
     "output_type": "execute_result"
    }
   ],
   "source": [
    "trans_df.value_counts()"
   ]
  },
  {
   "cell_type": "code",
   "execution_count": 5,
   "metadata": {},
   "outputs": [],
   "source": [
    "chats = pd.read_csv('../data/chat.csv')\n",
    "trans = pd.read_csv('../data/trans.csv')"
   ]
  },
  {
   "cell_type": "code",
   "execution_count": 6,
   "metadata": {},
   "outputs": [
    {
     "data": {
      "text/html": [
       "<div>\n",
       "<style scoped>\n",
       "    .dataframe tbody tr th:only-of-type {\n",
       "        vertical-align: middle;\n",
       "    }\n",
       "\n",
       "    .dataframe tbody tr th {\n",
       "        vertical-align: top;\n",
       "    }\n",
       "\n",
       "    .dataframe thead th {\n",
       "        text-align: right;\n",
       "    }\n",
       "</style>\n",
       "<table border=\"1\" class=\"dataframe\">\n",
       "  <thead>\n",
       "    <tr style=\"text-align: right;\">\n",
       "      <th></th>\n",
       "      <th>Unnamed: 0</th>\n",
       "      <th>speaker</th>\n",
       "      <th>content</th>\n",
       "      <th>block</th>\n",
       "      <th>session</th>\n",
       "    </tr>\n",
       "  </thead>\n",
       "  <tbody>\n",
       "    <tr>\n",
       "      <th>0</th>\n",
       "      <td>0</td>\n",
       "      <td>Nastya</td>\n",
       "      <td>Ninety and slash or?</td>\n",
       "      <td>0</td>\n",
       "      <td>1903</td>\n",
       "    </tr>\n",
       "    <tr>\n",
       "      <th>1</th>\n",
       "      <td>1</td>\n",
       "      <td>Ryan to Zheny</td>\n",
       "      <td>And then just your number. So [UI]</td>\n",
       "      <td>0</td>\n",
       "      <td>1903</td>\n",
       "    </tr>\n",
       "    <tr>\n",
       "      <th>2</th>\n",
       "      <td>2</td>\n",
       "      <td>Natash</td>\n",
       "      <td>No…</td>\n",
       "      <td>0</td>\n",
       "      <td>1903</td>\n",
       "    </tr>\n",
       "    <tr>\n",
       "      <th>3</th>\n",
       "      <td>3</td>\n",
       "      <td>Zheny</td>\n",
       "      <td>[UI]</td>\n",
       "      <td>0</td>\n",
       "      <td>1903</td>\n",
       "    </tr>\n",
       "    <tr>\n",
       "      <th>4</th>\n",
       "      <td>4</td>\n",
       "      <td>Ali</td>\n",
       "      <td>You have a password.</td>\n",
       "      <td>0</td>\n",
       "      <td>1903</td>\n",
       "    </tr>\n",
       "    <tr>\n",
       "      <th>...</th>\n",
       "      <td>...</td>\n",
       "      <td>...</td>\n",
       "      <td>...</td>\n",
       "      <td>...</td>\n",
       "      <td>...</td>\n",
       "    </tr>\n",
       "    <tr>\n",
       "      <th>36028</th>\n",
       "      <td>8990</td>\n",
       "      <td>Will</td>\n",
       "      <td>[SL] It’s alright.</td>\n",
       "      <td>0</td>\n",
       "      <td>12111</td>\n",
       "    </tr>\n",
       "    <tr>\n",
       "      <th>36029</th>\n",
       "      <td>8991</td>\n",
       "      <td>Oleg</td>\n",
       "      <td>//They scattered away.</td>\n",
       "      <td>0</td>\n",
       "      <td>12111</td>\n",
       "    </tr>\n",
       "    <tr>\n",
       "      <th>36030</th>\n",
       "      <td>8992</td>\n",
       "      <td>Vika</td>\n",
       "      <td>//Bye guys.</td>\n",
       "      <td>0</td>\n",
       "      <td>12111</td>\n",
       "    </tr>\n",
       "    <tr>\n",
       "      <th>36031</th>\n",
       "      <td>8993</td>\n",
       "      <td>Ashley</td>\n",
       "      <td>Bye everyone. //It was a great session.</td>\n",
       "      <td>0</td>\n",
       "      <td>12111</td>\n",
       "    </tr>\n",
       "    <tr>\n",
       "      <th>36032</th>\n",
       "      <td>8994</td>\n",
       "      <td>Vika</td>\n",
       "      <td>//Oh, I forgot about it.</td>\n",
       "      <td>0</td>\n",
       "      <td>12111</td>\n",
       "    </tr>\n",
       "  </tbody>\n",
       "</table>\n",
       "<p>36033 rows × 5 columns</p>\n",
       "</div>"
      ],
      "text/plain": [
       "       Unnamed: 0        speaker                                   content   \n",
       "0               0         Nastya                      Ninety and slash or?  \\\n",
       "1               1  Ryan to Zheny        And then just your number. So [UI]   \n",
       "2               2         Natash                                       No…   \n",
       "3               3          Zheny                                      [UI]   \n",
       "4               4            Ali                      You have a password.   \n",
       "...           ...            ...                                       ...   \n",
       "36028        8990           Will                        [SL] It’s alright.   \n",
       "36029        8991           Oleg                    //They scattered away.   \n",
       "36030        8992           Vika                               //Bye guys.   \n",
       "36031        8993         Ashley   Bye everyone. //It was a great session.   \n",
       "36032        8994           Vika                  //Oh, I forgot about it.   \n",
       "\n",
       "       block  session  \n",
       "0          0     1903  \n",
       "1          0     1903  \n",
       "2          0     1903  \n",
       "3          0     1903  \n",
       "4          0     1903  \n",
       "...      ...      ...  \n",
       "36028      0    12111  \n",
       "36029      0    12111  \n",
       "36030      0    12111  \n",
       "36031      0    12111  \n",
       "36032      0    12111  \n",
       "\n",
       "[36033 rows x 5 columns]"
      ]
     },
     "execution_count": 6,
     "metadata": {},
     "output_type": "execute_result"
    }
   ],
   "source": [
    "trans"
   ]
  },
  {
   "cell_type": "code",
   "execution_count": 12,
   "metadata": {},
   "outputs": [],
   "source": [
    "#temp file for manual inspection\n",
    "ds = trans.iloc[trans_df.index[trans_df['BC_Trans_Preds'] == 'backchannel'].to_list()]\n",
    "ds.to_csv('ds.csv', index=False)"
   ]
  },
  {
   "cell_type": "code",
   "execution_count": 8,
   "metadata": {},
   "outputs": [
    {
     "data": {
      "text/plain": [
       "BC_Trans_Preds\n",
       "statement         22366\n",
       "question           8623\n",
       "disruption         2017\n",
       "floor-grabber      1931\n",
       "backchannel        1096\n",
       "Name: count, dtype: int64"
      ]
     },
     "execution_count": 8,
     "metadata": {},
     "output_type": "execute_result"
    }
   ],
   "source": [
    "#manually changing utterances that have \"[UI]\" or \"//[UI]\" to be disruptions\n",
    "\n",
    "\n",
    "fgids = set(trans_df.index[trans_df['BC_Trans_Preds'] == 'floor-grabber'].to_list())\n",
    "UIids = set(trans.index[trans['content'].str.contains('[UI]', na=False)].to_list())\n",
    "\n",
    "overlap = list(fgids.intersection(UIids))\n",
    "\n",
    "trans_df.loc[overlap, 'BC_Trans_Preds'] = 'disruption'\n",
    "trans_df.value_counts()\n"
   ]
  },
  {
   "cell_type": "code",
   "execution_count": 10,
   "metadata": {},
   "outputs": [],
   "source": [
    "#save them back to file\n",
    "\n",
    "trans_df.to_csv('trans_preds.csv', index=False)"
   ]
  }
 ],
 "metadata": {
  "kernelspec": {
   "display_name": "Python 3",
   "language": "python",
   "name": "python3"
  },
  "language_info": {
   "codemirror_mode": {
    "name": "ipython",
    "version": 3
   },
   "file_extension": ".py",
   "mimetype": "text/x-python",
   "name": "python",
   "nbconvert_exporter": "python",
   "pygments_lexer": "ipython3",
   "version": "3.10.12"
  }
 },
 "nbformat": 4,
 "nbformat_minor": 2
}
