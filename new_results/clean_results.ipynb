{
 "cells": [
  {
   "cell_type": "code",
   "execution_count": 1,
   "metadata": {},
   "outputs": [],
   "source": [
    "import pandas as pd\n",
    "chats_df = pd.read_csv('chat_preds.csv')\n",
    "trans_df = pd.read_csv('trans_preds.csv')"
   ]
  },
  {
   "cell_type": "code",
   "execution_count": 2,
   "metadata": {},
   "outputs": [
    {
     "data": {
      "text/html": [
       "<div>\n",
       "<style scoped>\n",
       "    .dataframe tbody tr th:only-of-type {\n",
       "        vertical-align: middle;\n",
       "    }\n",
       "\n",
       "    .dataframe tbody tr th {\n",
       "        vertical-align: top;\n",
       "    }\n",
       "\n",
       "    .dataframe thead th {\n",
       "        text-align: right;\n",
       "    }\n",
       "</style>\n",
       "<table border=\"1\" class=\"dataframe\">\n",
       "  <thead>\n",
       "    <tr style=\"text-align: right;\">\n",
       "      <th></th>\n",
       "      <th>BC_Trans_Preds</th>\n",
       "    </tr>\n",
       "  </thead>\n",
       "  <tbody>\n",
       "    <tr>\n",
       "      <th>0</th>\n",
       "      <td>disruption</td>\n",
       "    </tr>\n",
       "    <tr>\n",
       "      <th>1</th>\n",
       "      <td>statement</td>\n",
       "    </tr>\n",
       "    <tr>\n",
       "      <th>2</th>\n",
       "      <td>floor-grabber</td>\n",
       "    </tr>\n",
       "    <tr>\n",
       "      <th>3</th>\n",
       "      <td>floor-grabber</td>\n",
       "    </tr>\n",
       "    <tr>\n",
       "      <th>4</th>\n",
       "      <td>statement</td>\n",
       "    </tr>\n",
       "    <tr>\n",
       "      <th>...</th>\n",
       "      <td>...</td>\n",
       "    </tr>\n",
       "    <tr>\n",
       "      <th>36028</th>\n",
       "      <td>statement</td>\n",
       "    </tr>\n",
       "    <tr>\n",
       "      <th>36029</th>\n",
       "      <td>statement</td>\n",
       "    </tr>\n",
       "    <tr>\n",
       "      <th>36030</th>\n",
       "      <td>statement</td>\n",
       "    </tr>\n",
       "    <tr>\n",
       "      <th>36031</th>\n",
       "      <td>statement</td>\n",
       "    </tr>\n",
       "    <tr>\n",
       "      <th>36032</th>\n",
       "      <td>statement</td>\n",
       "    </tr>\n",
       "  </tbody>\n",
       "</table>\n",
       "<p>36033 rows × 1 columns</p>\n",
       "</div>"
      ],
      "text/plain": [
       "      BC_Trans_Preds\n",
       "0         disruption\n",
       "1          statement\n",
       "2      floor-grabber\n",
       "3      floor-grabber\n",
       "4          statement\n",
       "...              ...\n",
       "36028      statement\n",
       "36029      statement\n",
       "36030      statement\n",
       "36031      statement\n",
       "36032      statement\n",
       "\n",
       "[36033 rows x 1 columns]"
      ]
     },
     "execution_count": 2,
     "metadata": {},
     "output_type": "execute_result"
    }
   ],
   "source": [
    "trans_df"
   ]
  },
  {
   "cell_type": "code",
   "execution_count": 3,
   "metadata": {},
   "outputs": [
    {
     "data": {
      "text/plain": [
       "BC_Chat_Preds\n",
       "floor-grabber    1216\n",
       "question          763\n",
       "statement         758\n",
       "disruption        134\n",
       "backchannel         7\n",
       "Name: count, dtype: int64"
      ]
     },
     "execution_count": 3,
     "metadata": {},
     "output_type": "execute_result"
    }
   ],
   "source": [
    "chats_df.value_counts()"
   ]
  },
  {
   "cell_type": "code",
   "execution_count": 4,
   "metadata": {},
   "outputs": [
    {
     "data": {
      "text/plain": [
       "BC_Trans_Preds\n",
       "statement         22366\n",
       "question           8623\n",
       "floor-grabber      3676\n",
       "backchannel        1096\n",
       "disruption          272\n",
       "Name: count, dtype: int64"
      ]
     },
     "execution_count": 4,
     "metadata": {},
     "output_type": "execute_result"
    }
   ],
   "source": [
    "trans_df.value_counts()"
   ]
  },
  {
   "cell_type": "code",
   "execution_count": 2,
   "metadata": {},
   "outputs": [],
   "source": [
    "chats = pd.read_csv('../data/chat.csv')\n",
    "trans = pd.read_csv('../data/trans.csv')"
   ]
  },
  {
   "cell_type": "code",
   "execution_count": 22,
   "metadata": {},
   "outputs": [
    {
     "data": {
      "text/html": [
       "<div>\n",
       "<style scoped>\n",
       "    .dataframe tbody tr th:only-of-type {\n",
       "        vertical-align: middle;\n",
       "    }\n",
       "\n",
       "    .dataframe tbody tr th {\n",
       "        vertical-align: top;\n",
       "    }\n",
       "\n",
       "    .dataframe thead th {\n",
       "        text-align: right;\n",
       "    }\n",
       "</style>\n",
       "<table border=\"1\" class=\"dataframe\">\n",
       "  <thead>\n",
       "    <tr style=\"text-align: right;\">\n",
       "      <th></th>\n",
       "      <th>Unnamed: 0</th>\n",
       "      <th>content</th>\n",
       "      <th>recipient</th>\n",
       "      <th>sender</th>\n",
       "      <th>sentOnBehalfOf</th>\n",
       "      <th>session</th>\n",
       "      <th>block</th>\n",
       "    </tr>\n",
       "  </thead>\n",
       "  <tbody>\n",
       "    <tr>\n",
       "      <th>0</th>\n",
       "      <td>0</td>\n",
       "      <td>Hello! Please confirm when the crew is online ...</td>\n",
       "      <td>eng3</td>\n",
       "      <td>vc3</td>\n",
       "      <td>vc3</td>\n",
       "      <td>1901</td>\n",
       "      <td>NaN</td>\n",
       "    </tr>\n",
       "    <tr>\n",
       "      <th>1</th>\n",
       "      <td>1</td>\n",
       "      <td>Hydrogeologist: Hello Geo!\\n</td>\n",
       "      <td>teamGeo</td>\n",
       "      <td>teamGeo</td>\n",
       "      <td>geo1</td>\n",
       "      <td>1901</td>\n",
       "      <td>NaN</td>\n",
       "    </tr>\n",
       "    <tr>\n",
       "      <th>2</th>\n",
       "      <td>2</td>\n",
       "      <td>Session start</td>\n",
       "      <td>geo2</td>\n",
       "      <td>geo3</td>\n",
       "      <td>geo3</td>\n",
       "      <td>1901</td>\n",
       "      <td>NaN</td>\n",
       "    </tr>\n",
       "    <tr>\n",
       "      <th>3</th>\n",
       "      <td>3</td>\n",
       "      <td>Hello! Please confirm when the crew is online ...</td>\n",
       "      <td>eng2</td>\n",
       "      <td>vc3</td>\n",
       "      <td>vc3</td>\n",
       "      <td>1901</td>\n",
       "      <td>NaN</td>\n",
       "    </tr>\n",
       "    <tr>\n",
       "      <th>4</th>\n",
       "      <td>4</td>\n",
       "      <td>Hello! Please confirm when the crew is online ...</td>\n",
       "      <td>con1</td>\n",
       "      <td>vc3</td>\n",
       "      <td>vc3</td>\n",
       "      <td>1901</td>\n",
       "      <td>NaN</td>\n",
       "    </tr>\n",
       "    <tr>\n",
       "      <th>...</th>\n",
       "      <td>...</td>\n",
       "      <td>...</td>\n",
       "      <td>...</td>\n",
       "      <td>...</td>\n",
       "      <td>...</td>\n",
       "      <td>...</td>\n",
       "      <td>...</td>\n",
       "    </tr>\n",
       "    <tr>\n",
       "      <th>2873</th>\n",
       "      <td>2447</td>\n",
       "      <td>10/10 AGREE</td>\n",
       "      <td>geo2</td>\n",
       "      <td>geo3</td>\n",
       "      <td>geo3</td>\n",
       "      <td>2118</td>\n",
       "      <td>2.0</td>\n",
       "    </tr>\n",
       "    <tr>\n",
       "      <th>2874</th>\n",
       "      <td>2448</td>\n",
       "      <td>IT'S ALSO A GOOD DAY TO BE ON THE TURBO TEAM</td>\n",
       "      <td>geo2</td>\n",
       "      <td>geo3</td>\n",
       "      <td>geo3</td>\n",
       "      <td>2118</td>\n",
       "      <td>2.0</td>\n",
       "    </tr>\n",
       "    <tr>\n",
       "      <th>2875</th>\n",
       "      <td>2449</td>\n",
       "      <td>Sedimentologist: LET'S GO TURBO</td>\n",
       "      <td>teamGeo</td>\n",
       "      <td>teamGeo</td>\n",
       "      <td>geo3</td>\n",
       "      <td>2118</td>\n",
       "      <td>2.0</td>\n",
       "    </tr>\n",
       "    <tr>\n",
       "      <th>2876</th>\n",
       "      <td>2450</td>\n",
       "      <td>wHAT?)))</td>\n",
       "      <td>con3</td>\n",
       "      <td>geo1</td>\n",
       "      <td>geo1</td>\n",
       "      <td>2118</td>\n",
       "      <td>2.0</td>\n",
       "    </tr>\n",
       "    <tr>\n",
       "      <th>2877</th>\n",
       "      <td>2451</td>\n",
       "      <td>SO LET'S CHOSE FE!?</td>\n",
       "      <td>con3</td>\n",
       "      <td>geo1</td>\n",
       "      <td>geo1</td>\n",
       "      <td>2118</td>\n",
       "      <td>2.0</td>\n",
       "    </tr>\n",
       "  </tbody>\n",
       "</table>\n",
       "<p>2878 rows × 7 columns</p>\n",
       "</div>"
      ],
      "text/plain": [
       "      Unnamed: 0                                            content recipient   \n",
       "0              0  Hello! Please confirm when the crew is online ...      eng3  \\\n",
       "1              1                       Hydrogeologist: Hello Geo!\\n   teamGeo   \n",
       "2              2                                      Session start      geo2   \n",
       "3              3  Hello! Please confirm when the crew is online ...      eng2   \n",
       "4              4  Hello! Please confirm when the crew is online ...      con1   \n",
       "...          ...                                                ...       ...   \n",
       "2873        2447                                        10/10 AGREE      geo2   \n",
       "2874        2448       IT'S ALSO A GOOD DAY TO BE ON THE TURBO TEAM      geo2   \n",
       "2875        2449                    Sedimentologist: LET'S GO TURBO   teamGeo   \n",
       "2876        2450                                           wHAT?)))      con3   \n",
       "2877        2451                                SO LET'S CHOSE FE!?      con3   \n",
       "\n",
       "       sender sentOnBehalfOf  session  block  \n",
       "0         vc3            vc3     1901    NaN  \n",
       "1     teamGeo           geo1     1901    NaN  \n",
       "2        geo3           geo3     1901    NaN  \n",
       "3         vc3            vc3     1901    NaN  \n",
       "4         vc3            vc3     1901    NaN  \n",
       "...       ...            ...      ...    ...  \n",
       "2873     geo3           geo3     2118    2.0  \n",
       "2874     geo3           geo3     2118    2.0  \n",
       "2875  teamGeo           geo3     2118    2.0  \n",
       "2876     geo1           geo1     2118    2.0  \n",
       "2877     geo1           geo1     2118    2.0  \n",
       "\n",
       "[2878 rows x 7 columns]"
      ]
     },
     "execution_count": 22,
     "metadata": {},
     "output_type": "execute_result"
    }
   ],
   "source": [
    "chats"
   ]
  },
  {
   "cell_type": "code",
   "execution_count": 23,
   "metadata": {},
   "outputs": [
    {
     "data": {
      "text/plain": [
       "BC_Trans_Preds\n",
       "statement         21332\n",
       "question           8331\n",
       "UI                 2566\n",
       "floor-grabber      1931\n",
       "backchannel        1095\n",
       "disruption          778\n",
       "Name: count, dtype: int64"
      ]
     },
     "execution_count": 23,
     "metadata": {},
     "output_type": "execute_result"
    }
   ],
   "source": [
    "#create new class for [UI], chat data doesnt have any [UI]'s cause it's just messages\n",
    "\n",
    "ui_trans = trans.index[trans['content'].str.contains('\\[UI\\]')]\n",
    "trans_df.loc[ui_trans] = 'UI'\n",
    "trans_df.value_counts()"
   ]
  },
  {
   "cell_type": "code",
   "execution_count": 25,
   "metadata": {},
   "outputs": [
    {
     "data": {
      "text/plain": [
       "DYDA_Trans_Preds\n",
       "inform              20423\n",
       "question             8717\n",
       "directive            2660\n",
       "UI                   2566\n",
       "commissive           1667\n",
       "Name: count, dtype: int64"
      ]
     },
     "execution_count": 25,
     "metadata": {},
     "output_type": "execute_result"
    }
   ],
   "source": [
    "#do same for dyda\n",
    "\n",
    "dyda = pd.read_csv('DYDA_trans_preds.csv')\n",
    "dyda.loc[ui_trans] = 'UI'\n",
    "dyda.value_counts()\n"
   ]
  },
  {
   "cell_type": "code",
   "execution_count": 26,
   "metadata": {},
   "outputs": [],
   "source": [
    "#there is an equal amount in each set, so this is working fine\n",
    "#save back to files\n",
    "\n",
    "trans_df.to_csv('trans_preds.csv', index=False)\n",
    "dyda.to_csv('DYDA_trans_preds.csv', index=False)"
   ]
  }
 ],
 "metadata": {
  "kernelspec": {
   "display_name": "Python 3",
   "language": "python",
   "name": "python3"
  },
  "language_info": {
   "codemirror_mode": {
    "name": "ipython",
    "version": 3
   },
   "file_extension": ".py",
   "mimetype": "text/x-python",
   "name": "python",
   "nbconvert_exporter": "python",
   "pygments_lexer": "ipython3",
   "version": "3.10.12"
  }
 },
 "nbformat": 4,
 "nbformat_minor": 2
}
